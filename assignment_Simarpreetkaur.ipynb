{
 "cells": [
  {
   "cell_type": "code",
   "execution_count": 13,
   "id": "fff33784",
   "metadata": {},
   "outputs": [
    {
     "name": "stdout",
     "output_type": "stream",
     "text": [
      "[12, 35, 9, 56, 24]\n",
      "[24, 35, 9, 56, 12]\n"
     ]
    }
   ],
   "source": [
    "#create empty list\n",
    "list=[]\n",
    "#append values\n",
    "list.append(12)\n",
    "list.append(35)\n",
    "list.append(9)\n",
    "list.append(56)\n",
    "list.append(24)\n",
    "#print list\n",
    "print(list)\n",
    "#change list elements\n",
    "list[0]=24\n",
    "list[4]=12\n",
    "#print list\n",
    "print(list)\n"
   ]
  },
  {
   "cell_type": "code",
   "execution_count": 6,
   "id": "4d02547a",
   "metadata": {},
   "outputs": [
    {
     "name": "stdout",
     "output_type": "stream",
     "text": [
      "5\n"
     ]
    }
   ],
   "source": [
    "#create list\n",
    "list=[1,4,5,7,8]\n",
    "#lenth of list\n",
    "length=len(list)\n",
    "#print list\n",
    "print(length)"
   ]
  },
  {
   "cell_type": "code",
   "execution_count": 9,
   "id": "595bd7f5",
   "metadata": {},
   "outputs": [
    {
     "name": "stdout",
     "output_type": "stream",
     "text": [
      "['Geeks', 'Are', 'For', 'Geeks']\n",
      "length of list is 4\n"
     ]
    }
   ],
   "source": [
    "#create empty list\n",
    "ss=[]\n",
    "#append values\n",
    "ss.append(\"Geeks\")\n",
    "ss.append(\"Are\")\n",
    "ss.append(\"For\")\n",
    "ss.append(\"Geeks\")\n",
    "#print list\n",
    "print(ss)\n",
    "#print length\n",
    "print(\"length of list is\", len(ss))"
   ]
  },
  {
   "cell_type": "code",
   "execution_count": 19,
   "id": "4f97b4b2",
   "metadata": {},
   "outputs": [
    {
     "name": "stdout",
     "output_type": "stream",
     "text": [
      "[4]\n",
      "[-4]\n"
     ]
    }
   ],
   "source": [
    "a=[2]\n",
    "b=[4]\n",
    "#print maximum value\n",
    "print(max(a,b))\n",
    "a=[-1]\n",
    "b=[-4]\n",
    "#print minimum value\n",
    "print(min(a,b))"
   ]
  },
  {
   "cell_type": "code",
   "execution_count": null,
   "id": "17ad2a31",
   "metadata": {},
   "outputs": [],
   "source": []
  }
 ],
 "metadata": {
  "kernelspec": {
   "display_name": "Python 3",
   "language": "python",
   "name": "python3"
  },
  "language_info": {
   "codemirror_mode": {
    "name": "ipython",
    "version": 3
   },
   "file_extension": ".py",
   "mimetype": "text/x-python",
   "name": "python",
   "nbconvert_exporter": "python",
   "pygments_lexer": "ipython3",
   "version": "3.8.8"
  }
 },
 "nbformat": 4,
 "nbformat_minor": 5
}
