{
 "cells": [
  {
   "cell_type": "code",
   "execution_count": 1,
   "id": "108fbce3",
   "metadata": {},
   "outputs": [
    {
     "name": "stdout",
     "output_type": "stream",
     "text": [
      "0.625\n",
      "17\n"
     ]
    }
   ],
   "source": [
    "print(5/8)\n",
    "print(7+10)"
   ]
  },
  {
   "cell_type": "code",
   "execution_count": 2,
   "id": "ef48e8ac",
   "metadata": {},
   "outputs": [
    {
     "name": "stdout",
     "output_type": "stream",
     "text": [
      "0.625\n",
      "17\n"
     ]
    }
   ],
   "source": [
    "#division\n",
    "print(5/8)\n",
    "#addition\n",
    "print(7+10)"
   ]
  },
  {
   "cell_type": "code",
   "execution_count": 3,
   "id": "b6cb5d1b",
   "metadata": {},
   "outputs": [
    {
     "name": "stdout",
     "output_type": "stream",
     "text": [
      "10\n",
      "0\n",
      "5.0\n",
      "4\n",
      "16\n"
     ]
    }
   ],
   "source": [
    "#addition\n",
    "print(5+5)\n",
    "#subtraction\n",
    "print(5-5)\n",
    "#multiplication\n",
    "(3*5)\n",
    "#division\n",
    "print(10/2)\n",
    "#power\n",
    "print(18%7)\n",
    "#remainder\n",
    "print(4**2)"
   ]
  },
  {
   "cell_type": "code",
   "execution_count": 4,
   "id": "7454e8ff",
   "metadata": {},
   "outputs": [
    {
     "name": "stdout",
     "output_type": "stream",
     "text": [
      "money earned is 1750.0000000000002\n",
      "total value is 6750.0\n"
     ]
    }
   ],
   "source": [
    "#4a\n",
    "p=5000\n",
    "r=.07\n",
    "t=5\n",
    "si=p*r*t\n",
    "print(\"money earned is\", si)\n",
    "print(\"total value is\",p+si)"
   ]
  },
  {
   "cell_type": "code",
   "execution_count": 5,
   "id": "0fc0b8a8",
   "metadata": {},
   "outputs": [
    {
     "name": "stdout",
     "output_type": "stream",
     "text": [
      "7.0\n"
     ]
    }
   ],
   "source": [
    "#4b\n",
    "p=8000\n",
    "r=.087\n",
    "si=4872\n",
    "t=si/(p*r)\n",
    "print(t)"
   ]
  },
  {
   "cell_type": "code",
   "execution_count": 7,
   "id": "972f19d9",
   "metadata": {},
   "outputs": [
    {
     "name": "stdout",
     "output_type": "stream",
     "text": [
      "6.4\n"
     ]
    }
   ],
   "source": [
    "p=3000\n",
    "t=4\n",
    "si=768\n",
    "r=si/(p*t)*100\n",
    "print(r)"
   ]
  },
  {
   "cell_type": "code",
   "execution_count": 8,
   "id": "453dfe14",
   "metadata": {},
   "outputs": [
    {
     "name": "stdout",
     "output_type": "stream",
     "text": [
      "194.87171000000012\n"
     ]
    }
   ],
   "source": [
    "p=100\n",
    "r=.10\n",
    "t=7\n",
    "print(p*(1+(r))**7)"
   ]
  },
  {
   "cell_type": "code",
   "execution_count": 9,
   "id": "5260e9c8",
   "metadata": {},
   "outputs": [
    {
     "name": "stdout",
     "output_type": "stream",
     "text": [
      "100\n",
      "1.1\n",
      "194.87171000000012\n"
     ]
    }
   ],
   "source": [
    "#create a variable savings\n",
    "savings=100\n",
    "print(savings)\n",
    "#create a variable growth_multiplier\n",
    "growth_multiplier=1.1\n",
    "print(growth_multiplier)\n",
    "#time_period\n",
    "time=7\n",
    "#calculate result\n",
    "result=savings*growth_multiplier**time\n",
    "#print out result\n",
    "print(result)"
   ]
  },
  {
   "cell_type": "code",
   "execution_count": 10,
   "id": "1b72113b",
   "metadata": {},
   "outputs": [
    {
     "name": "stdout",
     "output_type": "stream",
     "text": [
      "<class 'str'>\n"
     ]
    },
    {
     "ename": "NameError",
     "evalue": "name 'profiatble' is not defined",
     "output_type": "error",
     "traceback": [
      "\u001b[1;31m---------------------------------------------------------------------------\u001b[0m",
      "\u001b[1;31mNameError\u001b[0m                                 Traceback (most recent call last)",
      "\u001b[1;32m<ipython-input-10-021d871b52a1>\u001b[0m in \u001b[0;36m<module>\u001b[1;34m\u001b[0m\n\u001b[0;32m      4\u001b[0m \u001b[0mprofitable\u001b[0m\u001b[1;33m=\u001b[0m\u001b[1;32mTrue\u001b[0m\u001b[1;33m\u001b[0m\u001b[1;33m\u001b[0m\u001b[0m\n\u001b[0;32m      5\u001b[0m \u001b[0mprint\u001b[0m\u001b[1;33m(\u001b[0m\u001b[0mtype\u001b[0m\u001b[1;33m(\u001b[0m\u001b[0mdesc\u001b[0m\u001b[1;33m)\u001b[0m\u001b[1;33m)\u001b[0m\u001b[1;33m\u001b[0m\u001b[1;33m\u001b[0m\u001b[0m\n\u001b[1;32m----> 6\u001b[1;33m \u001b[0mprint\u001b[0m\u001b[1;33m(\u001b[0m\u001b[0mtype\u001b[0m\u001b[1;33m(\u001b[0m\u001b[0mprofiatble\u001b[0m\u001b[1;33m)\u001b[0m\u001b[1;33m)\u001b[0m\u001b[1;33m\u001b[0m\u001b[1;33m\u001b[0m\u001b[0m\n\u001b[0m",
      "\u001b[1;31mNameError\u001b[0m: name 'profiatble' is not defined"
     ]
    }
   ],
   "source": [
    "#create a variable desc\n",
    "desc=(\"compound interest\")\n",
    "#create a variable profitable\n",
    "profitable=True\n",
    "print(type(desc))\n",
    "print(type(profiatble))"
   ]
  },
  {
   "cell_type": "code",
   "execution_count": 11,
   "id": "80f30780",
   "metadata": {},
   "outputs": [
    {
     "name": "stdout",
     "output_type": "stream",
     "text": [
      "<class 'float'>\n",
      "<class 'str'>\n",
      "<class 'bool'>\n",
      "<class 'int'>\n",
      "<class 'float'>\n"
     ]
    }
   ],
   "source": [
    "a=10.7\n",
    "b=\"this is python course\"\n",
    "c=False\n",
    "print(type(a))\n",
    "print(type(b))\n",
    "print(type(c))\n",
    "print(type(savings))\n",
    "print(type(growth_multiplier))"
   ]
  },
  {
   "cell_type": "code",
   "execution_count": 12,
   "id": "b1f1041f",
   "metadata": {},
   "outputs": [
    {
     "name": "stdout",
     "output_type": "stream",
     "text": [
      "110.00000000000001\n",
      "<class 'float'>\n",
      "compound interestcompound interest\n"
     ]
    }
   ],
   "source": [
    "savings=100\n",
    "growth_multiplier=1.1\n",
    "desc=(\"compound interest\")\n",
    "#assign product value to year1\n",
    "year1=savings*growth_multiplier\n",
    "#print type of year1\n",
    "print(year1)\n",
    "print(type(year1))\n",
    "#assign sum of desc and desc to double desc\n",
    "doubledesc=(desc+ desc)\n",
    "#print doubledesc\n",
    "print(doubledesc)"
   ]
  },
  {
   "cell_type": "code",
   "execution_count": 2,
   "id": "648253f4",
   "metadata": {},
   "outputs": [
    {
     "ename": "NameError",
     "evalue": "name 'savings' is not defined",
     "output_type": "error",
     "traceback": [
      "\u001b[1;31m---------------------------------------------------------------------------\u001b[0m",
      "\u001b[1;31mNameError\u001b[0m                                 Traceback (most recent call last)",
      "\u001b[1;32m<ipython-input-2-4b4764dda02b>\u001b[0m in \u001b[0;36m<module>\u001b[1;34m\u001b[0m\n\u001b[0;32m      3\u001b[0m \u001b[0mresult\u001b[0m\u001b[1;33m=\u001b[0m\u001b[1;36m100\u001b[0m\u001b[1;33m*\u001b[0m\u001b[1;36m1.10\u001b[0m\u001b[1;33m**\u001b[0m\u001b[1;36m7\u001b[0m\u001b[1;33m\u001b[0m\u001b[1;33m\u001b[0m\u001b[0m\n\u001b[0;32m      4\u001b[0m \u001b[1;31m#fix printout using str\u001b[0m\u001b[1;33m\u001b[0m\u001b[1;33m\u001b[0m\u001b[1;33m\u001b[0m\u001b[0m\n\u001b[1;32m----> 5\u001b[1;33m \u001b[0msavings1\u001b[0m\u001b[1;33m=\u001b[0m\u001b[0mstr\u001b[0m\u001b[1;33m(\u001b[0m\u001b[0msavings\u001b[0m\u001b[1;33m)\u001b[0m\u001b[1;33m\u001b[0m\u001b[1;33m\u001b[0m\u001b[0m\n\u001b[0m\u001b[0;32m      6\u001b[0m \u001b[0mresult1\u001b[0m\u001b[1;33m=\u001b[0m\u001b[0mstr\u001b[0m\u001b[1;33m(\u001b[0m\u001b[0mresult\u001b[0m\u001b[1;33m)\u001b[0m\u001b[1;33m\u001b[0m\u001b[1;33m\u001b[0m\u001b[0m\n\u001b[0;32m      7\u001b[0m \u001b[0mprint\u001b[0m\u001b[1;33m(\u001b[0m\u001b[1;34m\"i started with $\"\u001b[0m \u001b[1;33m+\u001b[0m \u001b[0msavings1\u001b[0m \u001b[1;33m+\u001b[0m \u001b[1;34m\"and now have $\"\u001b[0m \u001b[1;33m+\u001b[0m \u001b[0mresult1\u001b[0m \u001b[1;33m+\u001b[0m \u001b[1;34m\".Awesome!\"\u001b[0m\u001b[1;33m)\u001b[0m\u001b[1;33m\u001b[0m\u001b[1;33m\u001b[0m\u001b[0m\n",
      "\u001b[1;31mNameError\u001b[0m: name 'savings' is not defined"
     ]
    }
   ],
   "source": [
    "#definition of saving and result\n",
    "saving=100\n",
    "result=100*1.10**7\n",
    "#fix printout using str\n",
    "savings1=str(savings)\n",
    "result1=str(result)\n",
    "print(\"i started with $\" + savings1 + \"and now have $\" + result1 + \".Awesome!\")"
   ]
  },
  {
   "cell_type": "code",
   "execution_count": 14,
   "id": "a50270b2",
   "metadata": {},
   "outputs": [
    {
     "name": "stdout",
     "output_type": "stream",
     "text": [
      "6.2831852\n"
     ]
    }
   ],
   "source": [
    "#definition of string\n",
    "pi_string=\"3.1415926\"\n",
    "#convert pi_string into float\n",
    "pi_float=float(pi_string)\n",
    "double_pi=pi_float*2\n",
    "print(double_pi)"
   ]
  },
  {
   "cell_type": "code",
   "execution_count": 15,
   "id": "5d2e064f",
   "metadata": {},
   "outputs": [
    {
     "ename": "TypeError",
     "evalue": "can only concatenate str (not \"int\") to str",
     "output_type": "error",
     "traceback": [
      "\u001b[1;31m---------------------------------------------------------------------------\u001b[0m",
      "\u001b[1;31mTypeError\u001b[0m                                 Traceback (most recent call last)",
      "\u001b[1;32m<ipython-input-15-f77cdc395508>\u001b[0m in \u001b[0;36m<module>\u001b[1;34m\u001b[0m\n\u001b[0;32m      1\u001b[0m \u001b[1;34m\"i can add integers, like \"\u001b[0m \u001b[1;33m+\u001b[0m \u001b[0mstr\u001b[0m\u001b[1;33m(\u001b[0m\u001b[1;36m5\u001b[0m\u001b[1;33m)\u001b[0m \u001b[1;33m+\u001b[0m \u001b[1;34m\"to strings.\"\u001b[0m\u001b[1;33m\u001b[0m\u001b[1;33m\u001b[0m\u001b[0m\n\u001b[0;32m      2\u001b[0m \u001b[1;34m\"i said \"\u001b[0m \u001b[1;33m+\u001b[0m \u001b[1;33m(\u001b[0m\u001b[1;34m\" hey \"\u001b[0m\u001b[1;33m*\u001b[0m\u001b[1;36m2\u001b[0m\u001b[1;33m)\u001b[0m \u001b[1;33m+\u001b[0m \u001b[1;34m\" hey! \"\u001b[0m\u001b[1;33m\u001b[0m\u001b[1;33m\u001b[0m\u001b[0m\n\u001b[1;32m----> 3\u001b[1;33m \u001b[1;34m\"the correcr answer to this multiple choice exercise is answer number \"\u001b[0m \u001b[1;33m+\u001b[0m\u001b[1;36m2\u001b[0m\u001b[1;33m\u001b[0m\u001b[1;33m\u001b[0m\u001b[0m\n\u001b[0m\u001b[0;32m      4\u001b[0m \u001b[1;32mTrue\u001b[0m\u001b[1;33m+\u001b[0m\u001b[1;32mFalse\u001b[0m\u001b[1;33m\u001b[0m\u001b[1;33m\u001b[0m\u001b[0m\n",
      "\u001b[1;31mTypeError\u001b[0m: can only concatenate str (not \"int\") to str"
     ]
    }
   ],
   "source": [
    "\"i can add integers, like \" + str(5) + \"to strings.\"\n",
    "\"i said \" + (\" hey \"*2) + \" hey! \"\n",
    "\"the correcr answer to this multiple choice exercise is answer number \" +2\n",
    "True+False"
   ]
  },
  {
   "cell_type": "code",
   "execution_count": 4,
   "id": "4183fab6",
   "metadata": {},
   "outputs": [
    {
     "name": "stdout",
     "output_type": "stream",
     "text": [
      "Enter number 6\n",
      "6  is even\n"
     ]
    }
   ],
   "source": [
    "#1\n",
    "#Checking whether number is even or odd\n",
    "n=int(input(\"Enter number \"))\n",
    "if n%2==0:\n",
    "    print(n, \" is even\")\n",
    "else :\n",
    "    print(n, \" is odd\")"
   ]
  },
  {
   "cell_type": "code",
   "execution_count": 5,
   "id": "62879e4e",
   "metadata": {},
   "outputs": [
    {
     "name": "stdout",
     "output_type": "stream",
     "text": [
      "Enter C Temp12\n",
      "53.6\n"
     ]
    }
   ],
   "source": [
    "#2\n",
    "inp=input('Enter C Temp')\n",
    "c1=float(inp)\n",
    "f=(c1*1.8)+32\n",
    "print(f)"
   ]
  },
  {
   "cell_type": "code",
   "execution_count": 6,
   "id": "22acc947",
   "metadata": {},
   "outputs": [
    {
     "name": "stdout",
     "output_type": "stream",
     "text": [
      "Area of triangle is:  34.662434637515005\n"
     ]
    }
   ],
   "source": [
    "#3\n",
    "import math\n",
    "a=4\n",
    "b=3\n",
    "c=6\n",
    "s=(a+b+c)/2\n",
    "Ar= s*(math.sqrt(s*(s-a)*(s-b)*(s-c)))\n",
    "print(\"Area of triangle is: \", Ar)"
   ]
  },
  {
   "cell_type": "code",
   "execution_count": 7,
   "id": "78b3d40b",
   "metadata": {},
   "outputs": [
    {
     "name": "stdout",
     "output_type": "stream",
     "text": [
      "enter radius os a circle: 5\n",
      "circumferrence of a circle will be  31.41592653589793\n"
     ]
    }
   ],
   "source": [
    "#4\n",
    "import math\n",
    "r=float(input(\"enter radius os a circle: \"))\n",
    "print(\"circumferrence of a circle will be \", 2*r*(math.pi))"
   ]
  },
  {
   "cell_type": "code",
   "execution_count": 8,
   "id": "6fbce0e4",
   "metadata": {},
   "outputs": [
    {
     "name": "stdout",
     "output_type": "stream",
     "text": [
      "Enter number to be checked: 6\n",
      "6  is not a multiple of 5\n"
     ]
    }
   ],
   "source": [
    "#5\n",
    "n=int(input(\"Enter number to be checked: \"))\n",
    "if n%5==0:\n",
    "    print(n, \" is a multiple of 5\")\n",
    "else :\n",
    "    print(n, \" is not a multiple of 5\")"
   ]
  },
  {
   "cell_type": "code",
   "execution_count": null,
   "id": "7c92850f",
   "metadata": {},
   "outputs": [],
   "source": []
  }
 ],
 "metadata": {
  "kernelspec": {
   "display_name": "Python 3",
   "language": "python",
   "name": "python3"
  },
  "language_info": {
   "codemirror_mode": {
    "name": "ipython",
    "version": 3
   },
   "file_extension": ".py",
   "mimetype": "text/x-python",
   "name": "python",
   "nbconvert_exporter": "python",
   "pygments_lexer": "ipython3",
   "version": "3.8.8"
  }
 },
 "nbformat": 4,
 "nbformat_minor": 5
}
