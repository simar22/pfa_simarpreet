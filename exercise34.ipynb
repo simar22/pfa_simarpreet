{
 "cells": [
  {
   "cell_type": "code",
   "execution_count": 1,
   "id": "6d23236d",
   "metadata": {},
   "outputs": [
    {
     "name": "stdout",
     "output_type": "stream",
     "text": [
      "no. is smaller than 10\n",
      "this statement will always be executed\n"
     ]
    }
   ],
   "source": [
    "num=5\n",
    "if num<10:\n",
    "    print(\"no. is smaller than 10\")\n",
    "print(\"this statement will always be executed\")"
   ]
  },
  {
   "cell_type": "code",
   "execution_count": 2,
   "id": "30cd844f",
   "metadata": {},
   "outputs": [
    {
     "name": "stdout",
     "output_type": "stream",
     "text": [
      "passing marks?60\n",
      "my marks?55\n",
      "you need to work hard\n"
     ]
    }
   ],
   "source": [
    "passing_score= input(\"passing marks?\")\n",
    "my_score= input(\"my marks?\")\n",
    "if int(my_score)>=int(passing_score):\n",
    "    print(\"congratulations!\")\n",
    "else:\n",
    "    print(\"you need to work hard\")"
   ]
  },
  {
   "cell_type": "code",
   "execution_count": 10,
   "id": "619e9a6e",
   "metadata": {},
   "outputs": [
    {
     "name": "stdout",
     "output_type": "stream",
     "text": [
      "Number is positive\n",
      "Number is less than 10\n"
     ]
    }
   ],
   "source": [
    "num=5\n",
    "if(num>0):\n",
    "    print('Number is positive')\n",
    "else:\n",
    "    print(\"Number is negative\")\n",
    "if num<10:\n",
    "    print(\"Number is less than 10\")\n",
    "else:\n",
    "    print(\"Number is greater than 10\")"
   ]
  },
  {
   "cell_type": "code",
   "execution_count": 14,
   "id": "86038a94",
   "metadata": {},
   "outputs": [
    {
     "name": "stdout",
     "output_type": "stream",
     "text": [
      "any number?5\n",
      "no. is greater than 0\n"
     ]
    }
   ],
   "source": [
    "n=int(input(\"any number?\"))\n",
    "if n!=0:\n",
    "    if n>0:\n",
    "        print(\"no. is greater than 0\")"
   ]
  },
  {
   "cell_type": "code",
   "execution_count": 20,
   "id": "1a52ed2c",
   "metadata": {},
   "outputs": [
    {
     "name": "stdout",
     "output_type": "stream",
     "text": [
      "number1?10\n",
      "number2?20\n",
      "number3?30\n",
      "All conditions are true\n"
     ]
    }
   ],
   "source": [
    "num1=int(input(\"number1?\"))\n",
    "num2=int(input(\"number2?\"))\n",
    "num3=int(input(\"number3?\"))\n",
    "\n",
    "if num1==10 and num2==20 and num3==30:\n",
    "    print(\"All conditions are true\")\n",
    "else:\n",
    "    print(\"The numbers are not 10,20,30\")"
   ]
  },
  {
   "cell_type": "code",
   "execution_count": 21,
   "id": "8c7ab655",
   "metadata": {},
   "outputs": [
    {
     "name": "stdout",
     "output_type": "stream",
     "text": [
      "fruit name?apple\n",
      "it's a fruit\n"
     ]
    }
   ],
   "source": [
    "fruit=input(\"fruit name?\")\n",
    "if fruit==(\"apple\") or fruit==(\"mango\") or fruit==(\"grpes\"):\n",
    "    print(\"it's a fruit\")\n",
    "else:\n",
    "    print(\"not a fruit\")"
   ]
  },
  {
   "cell_type": "code",
   "execution_count": 29,
   "id": "f517102c",
   "metadata": {},
   "outputs": [
    {
     "name": "stdout",
     "output_type": "stream",
     "text": [
      "enter the size of the list5\n",
      "enter the numbers6\n",
      "enter the numbers7\n",
      "enter the numbers8\n",
      "enter the numbers9\n",
      "enter the numbers3\n",
      "33\n",
      "6.6\n"
     ]
    }
   ],
   "source": [
    "n=int(input(\"enter the size of the list\"))\n",
    "count=0\n",
    "sum=0\n",
    "for i in range (n):\n",
    "    i=int(input('enter the numbers'))\n",
    "    sum= sum + i\n",
    "    avg=(sum)/5\n",
    "print (sum)\n",
    "print(avg)"
   ]
  },
  {
   "cell_type": "code",
   "execution_count": 25,
   "id": "19b9c929",
   "metadata": {},
   "outputs": [
    {
     "name": "stdout",
     "output_type": "stream",
     "text": [
      "apple\n",
      "mango\n",
      "banana\n",
      "orange\n",
      "grapes\n"
     ]
    }
   ],
   "source": [
    "fruits=[\"apple\",\"mango\",\"banana\",\"orange\",\"grapes\"]\n",
    "for i in fruits:\n",
    "    print(i)"
   ]
  },
  {
   "cell_type": "code",
   "execution_count": null,
   "id": "8b219466",
   "metadata": {},
   "outputs": [],
   "source": []
  }
 ],
 "metadata": {
  "kernelspec": {
   "display_name": "Python 3",
   "language": "python",
   "name": "python3"
  }
 },
 "nbformat": 4,
 "nbformat_minor": 5
}
